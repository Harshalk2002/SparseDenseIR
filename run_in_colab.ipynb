{
  "cells": [
    {
      "cell_type": "markdown",
      "metadata": {
        "id": "80RECi9HAOYV"
      },
      "source": [
        "# Assignment 1 — Sparse vs Dense Retrieval (One‑Click)\n",
        "This notebook installs requirements, builds TF‑IDF and Dense (all‑MiniLM‑L6‑v2) indexes, evaluates 10 queries, and saves plots to `outputs/`. Run all cells.\n"
      ],
      "id": "80RECi9HAOYV"
    },
    {
      "cell_type": "code",
      "execution_count": 10,
      "metadata": {
        "id": "m3mN9Y6AAOYW"
      },
      "outputs": [],
      "source": [
        "!pip -q install pandas numpy scikit-learn matplotlib faiss-cpu sentence-transformers"
      ],
      "id": "m3mN9Y6AAOYW"
    },
    {
      "cell_type": "code",
      "execution_count": 11,
      "metadata": {
        "colab": {
          "base_uri": "https://localhost:8080/"
        },
        "id": "lp4htYFuAOYW",
        "outputId": "4bd67f44-29b2-4306-debf-4a0a400ca977"
      },
      "outputs": [
        {
          "output_type": "stream",
          "name": "stdout",
          "text": [
            "Ready. If you uploaded the ZIP, unzip and set paths below.\n"
          ]
        }
      ],
      "source": [
        "import os, json, pandas as pd\n",
        "from google.colab import drive\n",
        "print('Ready. If you uploaded the ZIP, unzip and set paths below.')"
      ],
      "id": "lp4htYFuAOYW"
    },
    {
      "cell_type": "code",
      "execution_count": 12,
      "metadata": {
        "colab": {
          "base_uri": "https://localhost:8080/"
        },
        "id": "pwDa93IJAOYW",
        "outputId": "e32f7b05-dc22-43bc-c85c-de1f69e1be1f"
      },
      "outputs": [
        {
          "output_type": "stream",
          "name": "stdout",
          "text": [
            "2025-09-13 22:11:28.234314: E external/local_xla/xla/stream_executor/cuda/cuda_fft.cc:467] Unable to register cuFFT factory: Attempting to register factory for plugin cuFFT when one has already been registered\n",
            "WARNING: All log messages before absl::InitializeLog() is called are written to STDERR\n",
            "E0000 00:00:1757801488.275902    9105 cuda_dnn.cc:8579] Unable to register cuDNN factory: Attempting to register factory for plugin cuDNN when one has already been registered\n",
            "E0000 00:00:1757801488.288383    9105 cuda_blas.cc:1407] Unable to register cuBLAS factory: Attempting to register factory for plugin cuBLAS when one has already been registered\n",
            "W0000 00:00:1757801488.325498    9105 computation_placer.cc:177] computation placer already registered. Please check linkage and avoid linking the same target more than once.\n",
            "W0000 00:00:1757801488.325575    9105 computation_placer.cc:177] computation placer already registered. Please check linkage and avoid linking the same target more than once.\n",
            "W0000 00:00:1757801488.325580    9105 computation_placer.cc:177] computation placer already registered. Please check linkage and avoid linking the same target more than once.\n",
            "W0000 00:00:1757801488.325584    9105 computation_placer.cc:177] computation placer already registered. Please check linkage and avoid linking the same target more than once.\n",
            "2025-09-13 22:11:28.335946: I tensorflow/core/platform/cpu_feature_guard.cc:210] This TensorFlow binary is optimized to use available CPU instructions in performance-critical operations.\n",
            "To enable the following instructions: AVX2 FMA, in other operations, rebuild TensorFlow with the appropriate compiler flags.\n",
            "TF‑IDF: {\n",
            "  \"Recall\": {\n",
            "    \"@5\": 0.04,\n",
            "    \"@10\": 0.07\n",
            "  },\n",
            "  \"MRR\": {\n",
            "    \"@5\": 0.275,\n",
            "    \"@10\": 0.28500000000000003\n",
            "  }\n",
            "}\n",
            "Dense : {\n",
            "  \"Recall\": {\n",
            "    \"@5\": 0.07,\n",
            "    \"@10\": 0.1\n",
            "  },\n",
            "  \"MRR\": {\n",
            "    \"@5\": 0.22000000000000003,\n",
            "    \"@10\": 0.23111111111111113\n",
            "  }\n",
            "}\n",
            "Saved plot to outputs/results.png\n",
            "Done. Check outputs/.\n"
          ]
        }
      ],
      "source": [
        "CORPUS = 'data/my_corpus_1k.csv'\n",
        "QUERIES = 'data/queries.json'\n",
        "QRELS = 'data/qrels.json'\n",
        "PLOT = 'outputs/results.png'\n",
        "METRICS = 'outputs/metrics.json'\n",
        "\n",
        "os.makedirs('outputs', exist_ok=True)\n",
        "!python search_demo.py --corpus $CORPUS --queries $QUERIES --qrels $QRELS --top_k 5 --plot $PLOT --save_metrics $METRICS\n",
        "print('Done. Check outputs/.')"
      ],
      "id": "pwDa93IJAOYW"
    },
    {
      "cell_type": "code",
      "source": [
        "!python search_demo.py \\\n",
        "  --corpus data/my_corpus_1k.csv \\\n",
        "  --queries data/queries.json \\\n",
        "  --qrels data/qrels.json \\\n",
        "  --top_k 5 \\\n",
        "  --plot outputs/results.png \\\n",
        "  --save_metrics outputs/metrics.json\n"
      ],
      "metadata": {
        "colab": {
          "base_uri": "https://localhost:8080/"
        },
        "id": "TjzlWBtiB_ei",
        "outputId": "6d829650-33d4-4930-9469-d63d8d8b0f03"
      },
      "id": "TjzlWBtiB_ei",
      "execution_count": 13,
      "outputs": [
        {
          "output_type": "stream",
          "name": "stdout",
          "text": [
            "2025-09-13 22:12:10.577025: E external/local_xla/xla/stream_executor/cuda/cuda_fft.cc:467] Unable to register cuFFT factory: Attempting to register factory for plugin cuFFT when one has already been registered\n",
            "WARNING: All log messages before absl::InitializeLog() is called are written to STDERR\n",
            "E0000 00:00:1757801530.615974    9334 cuda_dnn.cc:8579] Unable to register cuDNN factory: Attempting to register factory for plugin cuDNN when one has already been registered\n",
            "E0000 00:00:1757801530.627772    9334 cuda_blas.cc:1407] Unable to register cuBLAS factory: Attempting to register factory for plugin cuBLAS when one has already been registered\n",
            "W0000 00:00:1757801530.657036    9334 computation_placer.cc:177] computation placer already registered. Please check linkage and avoid linking the same target more than once.\n",
            "W0000 00:00:1757801530.657083    9334 computation_placer.cc:177] computation placer already registered. Please check linkage and avoid linking the same target more than once.\n",
            "W0000 00:00:1757801530.657095    9334 computation_placer.cc:177] computation placer already registered. Please check linkage and avoid linking the same target more than once.\n",
            "W0000 00:00:1757801530.657100    9334 computation_placer.cc:177] computation placer already registered. Please check linkage and avoid linking the same target more than once.\n",
            "2025-09-13 22:12:10.665304: I tensorflow/core/platform/cpu_feature_guard.cc:210] This TensorFlow binary is optimized to use available CPU instructions in performance-critical operations.\n",
            "To enable the following instructions: AVX2 FMA, in other operations, rebuild TensorFlow with the appropriate compiler flags.\n",
            "TF‑IDF: {\n",
            "  \"Recall\": {\n",
            "    \"@5\": 0.04,\n",
            "    \"@10\": 0.07\n",
            "  },\n",
            "  \"MRR\": {\n",
            "    \"@5\": 0.275,\n",
            "    \"@10\": 0.28500000000000003\n",
            "  }\n",
            "}\n",
            "Dense : {\n",
            "  \"Recall\": {\n",
            "    \"@5\": 0.07,\n",
            "    \"@10\": 0.1\n",
            "  },\n",
            "  \"MRR\": {\n",
            "    \"@5\": 0.22000000000000003,\n",
            "    \"@10\": 0.23111111111111113\n",
            "  }\n",
            "}\n",
            "Saved plot to outputs/results.png\n"
          ]
        }
      ]
    },
    {
      "cell_type": "code",
      "source": [
        "\n",
        "import json, os\n",
        "from IPython.display import Image, display\n",
        "\n",
        "print(\"outputs exists:\", os.path.exists(\"outputs\"))\n",
        "print(\"metrics.json exists:\", os.path.exists(\"outputs/metrics.json\"))\n",
        "print(\"results.png exists:\", os.path.exists(\"outputs/results.png\"))\n",
        "\n",
        "with open(\"outputs/metrics.json\") as f:\n",
        "    print(json.dumps(json.load(f), indent=2))\n",
        "\n",
        "display(Image(\"outputs/results.png\"))\n"
      ],
      "metadata": {
        "colab": {
          "base_uri": "https://localhost:8080/",
          "height": 1000
        },
        "id": "Yt98Dre9IOn1",
        "outputId": "b2909cc6-4068-47cd-81d0-5c4dcaef7542"
      },
      "id": "Yt98Dre9IOn1",
      "execution_count": 14,
      "outputs": [
        {
          "output_type": "stream",
          "name": "stdout",
          "text": [
            "outputs exists: True\n",
            "metrics.json exists: True\n",
            "results.png exists: True\n",
            "{\n",
            "  \"tfidf\": {\n",
            "    \"Recall\": {\n",
            "      \"@5\": 0.04,\n",
            "      \"@10\": 0.07\n",
            "    },\n",
            "    \"MRR\": {\n",
            "      \"@5\": 0.275,\n",
            "      \"@10\": 0.28500000000000003\n",
            "    }\n",
            "  },\n",
            "  \"dense\": {\n",
            "    \"Recall\": {\n",
            "      \"@5\": 0.07,\n",
            "      \"@10\": 0.1\n",
            "    },\n",
            "    \"MRR\": {\n",
            "      \"@5\": 0.22000000000000003,\n",
            "      \"@10\": 0.23111111111111113\n",
            "    }\n",
            "  }\n",
            "}\n"
          ]
        },
        {
          "output_type": "display_data",
          "data": {
            "image/png": "[encoded data removed]",
            "text/plain": [
              "<IPython.core.display.Image object>"
            ]
          },
          "metadata": {}
        }
      ]
    }
  ],
  "metadata": {
    "colab": {
      "provenance": []
    },
    "kernelspec": {
      "display_name": "Python 3",
      "language": "python",
      "name": "python3"
    },
    "language_info": {
      "name": "python",
      "version": "3.x"
    }
  },
  "nbformat": 4,
  "nbformat_minor": 5
}